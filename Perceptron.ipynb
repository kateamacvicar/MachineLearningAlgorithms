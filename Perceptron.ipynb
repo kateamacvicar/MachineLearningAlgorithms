{
 "cells": [
  {
   "cell_type": "markdown",
   "metadata": {},
   "source": [
    "<H1><center>Project 2<BR><BR>\n",
    "Perceptrons</center></H1>"
   ]
  },
  {
   "cell_type": "markdown",
   "metadata": {},
   "source": [
    "<H2>Task 1: Identifying fake news\n",
    "</H2>"
   ]
  },
  {
   "cell_type": "markdown",
   "metadata": {},
   "source": [
    "<P>Read <a href=\"https://www.technologyreview.com/s/609717/can-ai-win-the-war-against-fake-news/\">this article</a> about how machine learning is being used to detect fake news stories.</P>\n",
    "\n",
    "<P>Please address (minimum 200 words) the following questions in the space below. What is your definition of \"fake news\"? When might two different groups of people read the same story with one group understanding it to be \"real\" and one group understanding it to be \"fake\"? What are some different ways that fake news might be combatted?</P>"
   ]
  },
  {
   "cell_type": "markdown",
   "metadata": {
    "collapsed": true
   },
   "source": [
    "Fake news are articles, headlines, and photos that are intentionally and verifiably false. Fake news is often created with the intention of misconstruing false information or increasing views/clicks to generate ad revenue. Fake news has successfully appealed to people's various opinions, emotions, and value systems to convince people of incorrect information. When two different groups of people with different opinions on how a certain topic should be, it is very possible for them to read the same story with one group understanding it to be real and one group understanding it to be fake. Finding a news article that aligns with one's belief makes an individual feel validated in their thoughts and strengthens their opinion, even if the article is verifiably false. The article in the MIT Technology Review explains the different ways that AI can be used to discover fake news. By growing the training data and analyzing a wide array of various articles, the AI algorithm can strengthen its ability to determine if an article or photo was purposely fabricated. We found it interesting that the article explores how AI can be used as a key combatant of fake news but can also be leveraged to quickly generate even more fake news, beginning an \"arms race\" of AI."
   ]
  },
  {
   "cell_type": "markdown",
   "metadata": {},
   "source": [
    "<H2>Task 2: Using Perceptrons to predict survivors of the Titanic\n",
    "</H2>"
   ]
  },
  {
   "cell_type": "markdown",
   "metadata": {},
   "source": [
    "<P>This from <a href=\"https://www.kaggle.com/c/titanic\">Kaggle</a>:\n",
    "\n",
    "<blockquote>\n",
    "<P>The sinking of the RMS Titanic is one of the most infamous shipwrecks in history.  On April 15, 1912, during her maiden voyage, the Titanic sank after colliding with an iceberg, killing 1502 out of 2224 passengers and crew. This sensational tragedy shocked the international community and led to better safety regulations for ships.</P>\n",
    "\n",
    "<P>One of the reasons that the shipwreck led to such loss of life was that there were not enough lifeboats for the passengers and crew. Although there was some element of luck involved in surviving the sinking, some groups of people were more likely to survive than others, such as women, children, and the upper-class.</P>\n",
    "</blockquote>\n",
    "\n",
    "<P>Together with the downloaded file containing this notebook, you should find a csv file named <code>titanic.csv</code> containing information about passengers on the Titanic and whether the passenger survived the tragedy. The first row of the file contains header information and each subsequent row contains information about a passenger. There are nine columns of feature values, and the tenth column contains labels, -1 or 1, indicating whether the passenger did not survive or did survive, respectively. The features in order of how they appear in the file are:</P>\n",
    "\n",
    "<ol>\n",
    "<li>Ticket class, 1=First, 2=Second, 3=Third</li>\n",
    "<li>Sex, 0=male, 1=female</li>\n",
    "<li>Age in years</li>\n",
    "<li>Number of siblings and spouses aboard the Titanic</li>\n",
    "<li>Number of parents and children aboard the Titanic</li>\n",
    "<li>Passenger fare in dollars</li>\n",
    "<li>Whether the passenger's port of embarkation was Cherbourg</li>\n",
    "<li>Whether the passenger's port of embarkation was Queenstown</li>\n",
    "<li>Whether the passenger's port of embarkation was Southampton</li>\n",
    "</ol>\n",
    "<P>In this task, you will use the <code>sklearn</code> perceptron algorithm to predict whether a passenger survived the Titanic.</P>"
   ]
  },
  {
   "cell_type": "markdown",
   "metadata": {},
   "source": [
    "<P>Write code in the space below to read in the <code>titanic.csv</code> file and store the feature vectors in an array <code>X</code> and the labels in an array <code>y</code>.</P>"
   ]
  },
  {
   "cell_type": "code",
   "execution_count": 20,
   "metadata": {},
   "outputs": [],
   "source": [
    "# Read in data and store feature vectors in array X and labels in array y\n",
    "\n",
    "import numpy as np\n",
    "def load(csv_file):\n",
    "    \"\"\"given a CSV file where each row is a data point,\n",
    "    with the last column being the label and the rest being the vector,\n",
    "    return a tuple consisting of two elements:\n",
    "    (1) a matrix where each row is a vector, in the same order as they appear in the file\n",
    "    (2) an array where the ith element is the label of the ith vector above.\n",
    "    \"\"\"\n",
    "    # Hint: Use https://docs.scipy.org/doc/numpy/reference/generated/numpy.loadtxt.html\n",
    "    DATA = np.loadtxt(csv_file, delimiter=',', skiprows=1)\n",
    "    \n",
    "    X = DATA[:,:-1] #matrix where each row is a vector, in the same order as they appear in the file\n",
    "    y = DATA[:,-1:] #an array where the ith element is the label of the ith vector above\n",
    "    \n",
    "    return (X, y)\n",
    "\n",
    "X,y = load(\"titanic.csv\")\n",
    "\n",
    "\n"
   ]
  },
  {
   "cell_type": "markdown",
   "metadata": {},
   "source": [
    "<P>Write code in the space below to split the data into <em>training</em> and <em>testing</em> data. Use 80% of the data for <em>training</em> and 20% of the data for <em>testing</em>. You may use the <code>train_test_split</code> function from <code>sklearn</code> here. Set <code>random_state=0</code> for consistent results.</P>"
   ]
  },
  {
   "cell_type": "code",
   "execution_count": 21,
   "metadata": {},
   "outputs": [],
   "source": [
    "# Split data into 80% training and 20% testing. Set random_state=0.\n",
    "from sklearn.model_selection import train_test_split\n",
    "X_train, X_test, y_train, y_test = train_test_split(X, y, test_size = 0.20, random_state = 0)\n"
   ]
  },
  {
   "cell_type": "markdown",
   "metadata": {},
   "source": [
    "<P>Write code in the space below that uses <code>sklearn</code> to create a Perceptron, setting the number of epochs to be 20 and the random_state to be 0. Train the perceptron on the <em>training</em> data. Once trained, report the accuracy of the perceptron first on classifying the <em>training</em> data and second on classifying the <em>testing</em> data. Finally, print out the weights for the 9 features, as learned by the Perceptron.</P>"
   ]
  },
  {
   "cell_type": "code",
   "execution_count": 22,
   "metadata": {},
   "outputs": [
    {
     "name": "stdout",
     "output_type": "stream",
     "text": [
      "Accuracy of perceptron on training: 0.7696629213483146\n",
      "Accuracy of perceptron on testing: 0.8212290502793296\n",
      "[[ -52.      758.      -16.74   -470.      -83.       30.1803   47.\n",
      "    78.      -74.    ]]\n"
     ]
    },
    {
     "name": "stderr",
     "output_type": "stream",
     "text": [
      "/Users/kimberleykimura/opt/anaconda3/lib/python3.9/site-packages/sklearn/utils/validation.py:993: DataConversionWarning: A column-vector y was passed when a 1d array was expected. Please change the shape of y to (n_samples, ), for example using ravel().\n",
      "  y = column_or_1d(y, warn=True)\n"
     ]
    }
   ],
   "source": [
    "# Create sklearn Perceptron with 20 epochs.\n",
    "# Train perceptron and report its classification accuracy on both training data and testing data.\n",
    "# Output weights of 9 features as learned by the Perceptron.\n",
    "\n",
    "from sklearn import linear_model  # Using sklearn Perceptron classifier\n",
    "perceptron = linear_model.Perceptron(max_iter=20, random_state=0)\n",
    "perceptron.fit(X_train, y_train)\n",
    "print('Accuracy of perceptron on training: ' + str(perceptron.score(X_train, y_train)))\n",
    "print('Accuracy of perceptron on testing: ' + str(perceptron.score(X_test, y_test)))\n",
    "\n",
    "print(perceptron.coef_)\n"
   ]
  },
  {
   "cell_type": "markdown",
   "metadata": {},
   "source": [
    "<P>Please answer the following questions.</P>"
   ]
  },
  {
   "cell_type": "markdown",
   "metadata": {},
   "source": [
    "<P><font color=\"maroon\"><u>Are the feature vectors linearly separable? How do you know?</u></font></P>"
   ]
  },
  {
   "cell_type": "markdown",
   "metadata": {},
   "source": [
    "No, they are not linearly separable since the accuracy of the perceptron is less than 100%. We were unable to find a line that perfectly separates survivors vs non-survivors.\n",
    "\n"
   ]
  },
  {
   "cell_type": "markdown",
   "metadata": {},
   "source": [
    "<P><font color=\"maroon\"><u>Based on the 9 feature weights, what feature contributes most toward predicting survival?</u></font></P>"
   ]
  },
  {
   "cell_type": "markdown",
   "metadata": {},
   "source": [
    "Based on the 9 feature weights, the second feature, sex, contributes most towards predicting survival.\n"
   ]
  },
  {
   "cell_type": "markdown",
   "metadata": {},
   "source": [
    "<P><font color=\"maroon\"><u>Were younger or older passengers more likely to survive?</u></font></P>"
   ]
  },
  {
   "cell_type": "markdown",
   "metadata": {},
   "source": [
    "Younger passengers are more likely to survive as age and survival are negatively correlated.\n",
    "\n"
   ]
  },
  {
   "cell_type": "markdown",
   "metadata": {},
   "source": [
    "<P><font color=\"maroon\"><u>Were passengers that paid a higher fare more likely to survive?</u></font></P>"
   ]
  },
  {
   "cell_type": "markdown",
   "metadata": {},
   "source": [
    "Yes, passenger fare in dollars (the 6th feature) is positively correlated to survival. Therefore, passengers who paid more were more likely to survive."
   ]
  },
  {
   "cell_type": "markdown",
   "metadata": {},
   "source": [
    "<P><font color=\"maroon\"><u>Passengers were most likely to survive if they embarked from which of the three ports?</u></font></P>"
   ]
  },
  {
   "cell_type": "markdown",
   "metadata": {},
   "source": [
    "Passengers were most likely to survive if they embarked from Queenstown.\n",
    "\n"
   ]
  },
  {
   "cell_type": "markdown",
   "metadata": {},
   "source": [
    "<H2>Task 3: Implementing your own Perceptron\n",
    "</H2>"
   ]
  },
  {
   "cell_type": "markdown",
   "metadata": {},
   "source": [
    "<P>In this task, you will implement your own perceptron learning algorithm. You may use the <code>numpy</code> and <code>matplotlib</code> libraries, but <font color=\"red\">you should <em>not</em> use any part of the <code>sklearn</code> library</font>."
   ]
  },
  {
   "cell_type": "markdown",
   "metadata": {},
   "source": [
    "<P>The file <code>dataset.csv</code> contains 500 examples labeled either as -1 or 1. The examples have 2-dimensional feature vectors, i.e., two features each. The file contains a header line. Write code below to read in the file and store the feature vectors in an array <code>X</code> and the labels in an array <code>y</code>. In order to visualize the data (since it is two-dimensional), you should also plot the data as a scatter plot using the <code>matplotlib</code> function <code>scatter</code>. When plotting the data with the <code>scatter</code> function, you can set the color of points based on their labels (-1 or 1) in the <code>y</code> array by providing the argument \"<code>c=y</code>\".</P>"
   ]
  },
  {
   "cell_type": "code",
   "execution_count": 23,
   "metadata": {},
   "outputs": [
    {
     "data": {
      "text/plain": [
       "<matplotlib.collections.PathCollection at 0x7fb8b7d24dc0>"
      ]
     },
     "execution_count": 23,
     "metadata": {},
     "output_type": "execute_result"
    },
    {
     "data": {
      "image/png": "[encoded data removed]",
      "text/plain": [
       "<Figure size 640x480 with 1 Axes>"
      ]
     },
     "metadata": {},
     "output_type": "display_data"
    }
   ],
   "source": [
    "# Read in data and store feature vectors in array X and labels in array y.\n",
    "# Also display scatter plot of data.\n",
    "\n",
    "import matplotlib.pyplot as plt\n",
    "\n",
    "X,y = load('dataset.csv') #using load function from Task 2\n",
    "\n",
    "plt.scatter(X[:,0], X[:,1], c=y)"
   ]
  },
  {
   "cell_type": "markdown",
   "metadata": {},
   "source": [
    "<P>Write a function <code>shuffle</code> that takes as input two arrays <code>X</code> and <code>y</code> with the same number of rows and returns two arrays containing the same data as the input arrays but with their rows randomly permuted. Hint: the <code>sklearn</code> function <code>random.shuffle</code> may be useful. However, if you shuffle the two arrays independently then labels in the <code>y</code> array won't correspond to the feature vectors in the <code>X</code> array. As an alternative, one approach is to combine the two arrays into a single array (e.g., with the <code>numpy</code> function either <code>hstack</code> or <code>concatenate</code>), randomly shuffle this array, and then split the array back into two arrays <code>X</code> and <code>y</code>.</P>"
   ]
  },
  {
   "cell_type": "code",
   "execution_count": 24,
   "metadata": {},
   "outputs": [],
   "source": [
    "# shuffle function takes two arrays, X and y, as input,\n",
    "# and returns versions of the two arrays where their rows have been randomly permuted\n",
    "from sklearn import utils\n",
    "\n",
    "def shuffle(X, y):\n",
    "    combined = np.hstack((X,y))\n",
    "    shuffled = utils.shuffle(combined)\n",
    "    X = shuffled[:,:-1]\n",
    "    y = shuffled[:,-1:]\n",
    "    return (X,y)\n",
    "    \n",
    "#a=np.array([[1,2] ,[3,4], [5,6]])\n",
    "#b=np.array([[7],[8],[9]])\n",
    "#shuffle(a,b)"
   ]
  },
  {
   "cell_type": "markdown",
   "metadata": {},
   "source": [
    "<P>Write code to split the data into four arrays (<code>X_train</code>, <code>y_train</code>, <code>X_test</code>, and <code>y_test</code>) so that 60% of the data corresponds to <em>training</em> data and 40% of the data corresponds to <em>testing</em> data. Of course, before splitting the data into <em>training</em> data and <em>testing</em> data, you should first shuffle the arrays <code>X</code> and <code>y</code> to guard against the case when the data was stored in the file in some sorted order (we want the <em>training</em> and <em>testing</em> data both to be representative of the entire data distribution).</P>"
   ]
  },
  {
   "cell_type": "code",
   "execution_count": 25,
   "metadata": {},
   "outputs": [],
   "source": [
    "# Shuffle data and then separate data into 60% training data and 40% testing data\n",
    "\n",
    "shuffle(X,y)\n",
    "X_train, X_test, y_train, y_test = train_test_split(X, y, test_size = 0.40, random_state = 0)\n",
    "\n",
    "\n"
   ]
  },
  {
   "cell_type": "markdown",
   "metadata": {},
   "source": [
    "<P>In the next part, you will be writing a function to train a perceptron. For now, you'll write a <em>simplified</em> version where the bias term is set to zero and never updated. Also, in this simplified version, you will <em>not</em> shuffle the data each epoch. In later versions, you will write more advanced perceptron training functions that update the bias term, shuffle the data each epoch, and compute <em>averaged</em> perceptrons. Ultimately, we'll execute both simplified and advanced versions of the perceptron training algorithm and see how the results change as we add more advanced aspects to the training algorithm.</P>"
   ]
  },
  {
   "cell_type": "markdown",
   "metadata": {},
   "source": [
    "<P>Write a function <code>perceptron_train_version1</code> that trains a perceptron. The function should take as input an array <code>X</code> of feature vectors and an array <code>y</code> of labels. It should implement the perceptron training algorithm which learns a weight vector <code>w</code> that defines a separating hyperplane. The number of epochs should be 20. The function should <em>not</em> learn or update a bias term (we'll get to this later). The function should set a bias term <code>b</code> to be 0 and never change it. The function also should <em>not</em> shuffle data at any point (we'll get to this later, too). The function should return two elements, the learned weight vector <code>w</code> and a bias term <code>b</code>, which simply has the value of zero.</P>"
   ]
  },
  {
   "cell_type": "code",
   "execution_count": 26,
   "metadata": {},
   "outputs": [],
   "source": [
    "# The perceptron_train_version1 function takes an array X of feature vectors and an array y of labels as input.\n",
    "# The function trains a perceptron. The number of epochs should be 20.\n",
    "# The function returns the weight vector w that it learns as well as a bias term of 0.\n",
    "\n",
    "def perceptron_train_version1 (X,y):\n",
    "    num_epochs = 20\n",
    "    b=0\n",
    "    w=np.zeros(X.shape[1])\n",
    "    \n",
    "    #print(w.shape)\n",
    "    \n",
    "    for epoch in range(num_epochs):\n",
    "            for i in range(X.shape[0]): \n",
    "                predicted = np.dot(X[i], w)\n",
    "                #print(predicted)\n",
    "                if (y[i]*(predicted) <= 0).all():\n",
    "                    w = w + y[i]*X[i]\n",
    "    return (w, b)\n",
    "\n"
   ]
  },
  {
   "cell_type": "markdown",
   "metadata": {},
   "source": [
    "<P>Write a function <code>predict</code> that predicts the class of a data point. The function should take three inputs: a weight vector <code>w</code>, a bias term <code>b</code>, and a single feature vector <code>x</code>. The weight vector <code>w</code> and the feature vector <code>x</code> should have the same size. The function should compute the appropriate weighted sum and then apply the activation function so that either -1 or 1 is returned.</P>"
   ]
  },
  {
   "cell_type": "code",
   "execution_count": 27,
   "metadata": {},
   "outputs": [],
   "source": [
    "# Using a weight vector w and a bias term b, the predict function \n",
    "# predicts the class of a data point x, returning either -1 or 1.\n",
    "\n",
    "def predict (w, b, x):\n",
    "    activation = w[0]\n",
    "    for i in range(len(x)):\n",
    "        activation += (w[i]*x[i] + b)\n",
    "        #print(activation)\n",
    "    if activation >= 0:\n",
    "        return 1\n",
    "    else:\n",
    "        return -1\n"
   ]
  },
  {
   "cell_type": "markdown",
   "metadata": {},
   "source": [
    "<P>Write a function <code>score</code> that takes four inputs, a weight vector <code>w</code>, a bias term <code>b</code>, an array <code>X</code> of feature vectors and an array <code>y</code> of labels. The function uses the weight vector <code>w</code> and the bias term <code>b</code> to make classification predictions for each feature vector in <code>X</code>. The predictions are compared to the labels in <code>y</code> and the accuracy is returned, i.e., the percentage of predictions that correctly correspond to labels in <code>y</code> is returned.</P>"
   ]
  },
  {
   "cell_type": "code",
   "execution_count": 28,
   "metadata": {},
   "outputs": [],
   "source": [
    "# The score function uses the weight vector w and the bias term b \n",
    "# to predict the class of each feature vector in X.\n",
    "# The predicted classes are compared to the labels in y and the accuracy of the predictions is returned.\n",
    "\n",
    "def score (w, b, X, y):\n",
    "    total = X.shape[0] #total # of data points\n",
    "    correct = 0\n",
    "    \n",
    "    for i in range(len(X)):\n",
    "        if (predict(w, 0, X[i]) == y[i]):\n",
    "            correct += 1\n",
    "    \n",
    "    return (correct/total)\n"
   ]
  },
  {
   "cell_type": "markdown",
   "metadata": {},
   "source": [
    "<P>Use your <code>perceptron_train_version1</code> function to train a perceptron on the <em>training</em> data. Then use the <code>score</code> function to assess the accuracy of the perceptron first on the <em>training</em> data and second on the <em>testing</em> data.</P>"
   ]
  },
  {
   "cell_type": "code",
   "execution_count": 29,
   "metadata": {},
   "outputs": [],
   "source": [
    "# Assess the accuracy of your perceptron (version 1) on the training data and on the testing data\n",
    "\n",
    "ptv1 = perceptron_train_version1 (X_train, y_train)\n",
    "w = ptv1[0]\n"
   ]
  },
  {
   "cell_type": "markdown",
   "metadata": {},
   "source": [
    "<P><font color=\"maroon\"><u>What is the accuracy of your <em>version1</em> perceptron on the <em>training</em> data?</u></font></P>\n",
    "<P><font color=\"maroon\"><u>What is the accuracy of your <em>version1</em> perceptron on the <em>testing</em> data?</u></font></P>"
   ]
  },
  {
   "cell_type": "code",
   "execution_count": 30,
   "metadata": {},
   "outputs": [
    {
     "name": "stdout",
     "output_type": "stream",
     "text": [
      "Training accuracy: 0.8133333333333334\n",
      "Testing accuracy: 0.805\n"
     ]
    }
   ],
   "source": [
    "print('Training accuracy:', score (w, 0, X_train, y_train))\n",
    "print('Testing accuracy:', score(w, 0, X_test, y_test))"
   ]
  },
  {
   "cell_type": "markdown",
   "metadata": {},
   "source": [
    "<P>Write a function <code>perceptron_train_version2</code> that trains a perceptron but this time, unlike version 1 above, the function should update the bias term. The function should take as input an array <code>X</code> of feature vectors and an array <code>y</code> of labels. It should implement the perceptron training algorithm which learns a weight vector <code>w</code> <em>and</em> a bias term <code>b</code>. The number of epochs should be 20. The function should <em>not</em> shuffle data at any point (we'll get to this later). The function should return two elements, the learned weight vector <code>w</code> and the learned bias term <code>b</code>.</P>"
   ]
  },
  {
   "cell_type": "code",
   "execution_count": 31,
   "metadata": {},
   "outputs": [],
   "source": [
    "# The perceptron_train_version2 function takes an array X of feature vectors and an array y of labels as input.\n",
    "# The function trains a perceptron. The number of epochs should be 20.\n",
    "# The function returns the weight vector w and the bias term b that it learns.\n",
    "\n",
    "\n",
    "def perceptron_train_version2 (X,y):\n",
    "    num_epochs = 20\n",
    "    b=0\n",
    "    w=np.zeros(X.shape[1])\n",
    "    \n",
    "    #print(w.shape)\n",
    "    \n",
    "    for epoch in range(num_epochs):\n",
    "            for i in range(X.shape[0]): \n",
    "                predicted = np.dot(X[i], w)\n",
    "                #print(predicted)\n",
    "                if (y[i]*(predicted+b) <= 0).all():\n",
    "                    w = w + y[i]*X[i]\n",
    "                    b = b + y[i]                   \n",
    "    return (w, b)\n",
    "\n",
    "\n",
    "\n",
    "\n"
   ]
  },
  {
   "cell_type": "markdown",
   "metadata": {},
   "source": [
    "<P>Use your <code>perceptron_train_version2</code> function to train a perceptron on the <em>training</em> data. Then use the <code>score</code> function to assess the accuracy of the perceptron first on the <em>training</em> data and second on the <em>testing</em> data.</P>"
   ]
  },
  {
   "cell_type": "code",
   "execution_count": 32,
   "metadata": {},
   "outputs": [],
   "source": [
    "# Assess the accuracy of your perceptron (version 2) on the training data and on the testing data\n",
    "ptv2 = perceptron_train_version2 (X_train, y_train)\n",
    "w = ptv2[0]\n"
   ]
  },
  {
   "cell_type": "markdown",
   "metadata": {},
   "source": [
    "<P><font color=\"maroon\"><u>What is the accuracy of your <em>version2</em> perceptron on the <em>training</em> data?</u></font></P>\n",
    "<P><font color=\"maroon\"><u>What is the accuracy of your <em>version2</em> perceptron on the <em>testing</em> data?</u></font></P>"
   ]
  },
  {
   "cell_type": "code",
   "execution_count": 33,
   "metadata": {},
   "outputs": [
    {
     "name": "stdout",
     "output_type": "stream",
     "text": [
      "Training accuracy: 0.89\n",
      "Testing accuracy: 0.88\n"
     ]
    }
   ],
   "source": [
    "print('Training accuracy:', score (w, 0, X_train, y_train))\n",
    "print('Testing accuracy:', score(w, 0, X_test, y_test))"
   ]
  },
  {
   "cell_type": "markdown",
   "metadata": {},
   "source": [
    "<P>Write a function <code>perceptron_train_version3</code> that trains a perceptron but this time, unlike version 2 above, the function should shuffle the data at the start of each epoch. The function should take as input an array <code>X</code> of feature vectors and an array <code>y</code> of labels. It should implement the perceptron training algorithm which learns a weight vector <code>w</code> <em>and</em> a bias term <code>b</code>. The number of epochs should be 20. The function should shuffle the data at the start of each epoch. The function should return two elements, the learned weight vector <code>w</code> and the learned bias term <code>b</code>.</P>"
   ]
  },
  {
   "cell_type": "code",
   "execution_count": 34,
   "metadata": {},
   "outputs": [],
   "source": [
    "# The perceptron_train_version3 function takes an array X of feature vectors and an array y of labels as input.\n",
    "# The function trains a perceptron. The number of epochs should be 20.\n",
    "# The data is shuffled at the start of each epoch.\n",
    "# The function returns the weight vector w and the bias term b that it learns.\n",
    "\n",
    "def perceptron_train_version3 (X,y):\n",
    "    num_epochs = 20\n",
    "    b=0\n",
    "    w=np.zeros(X.shape[1])\n",
    "    \n",
    "    #print(w.shape)\n",
    "    \n",
    "    for epoch in range(num_epochs):\n",
    "        X,y = shuffle(X,y)\n",
    "        for i in range(X.shape[0]): \n",
    "            predicted = np.dot(X[i], w)\n",
    "            #print(predicted)\n",
    "            if (y[i]*(predicted+b) <= 0).all():\n",
    "                w = w + y[i]*X[i]\n",
    "                b = b + y[i]                   \n",
    "    return (w, b)\n"
   ]
  },
  {
   "cell_type": "markdown",
   "metadata": {},
   "source": [
    "<P>Use your <code>perceptron_train_version3</code> function to train a perceptron on the <em>training</em> data. Then use the <code>score</code> function to assess the accuracy of the perceptron first on the <em>training</em> data and second on the <em>testing</em> data.</P>"
   ]
  },
  {
   "cell_type": "code",
   "execution_count": 35,
   "metadata": {},
   "outputs": [],
   "source": [
    "# Assess the accuracy of your perceptron (version 3) on the training data and on the testing data\n",
    "ptv3 = perceptron_train_version3 (X_train, y_train)\n",
    "w = ptv3[0]\n"
   ]
  },
  {
   "cell_type": "markdown",
   "metadata": {},
   "source": [
    "<P><font color=\"maroon\"><u>What is the accuracy of your <em>version3</em> perceptron on the <em>training</em> data?</u></font></P>\n",
    "<P><font color=\"maroon\"><u>What is the accuracy of your <em>version3</em> perceptron on the <em>testing</em> data?</u></font></P>"
   ]
  },
  {
   "cell_type": "code",
   "execution_count": 36,
   "metadata": {},
   "outputs": [
    {
     "name": "stdout",
     "output_type": "stream",
     "text": [
      "Training accuracy: 0.8766666666666667\n",
      "Testing accuracy: 0.865\n"
     ]
    }
   ],
   "source": [
    "print('Training accuracy:', score (w, 0, X_train, y_train))\n",
    "print('Testing accuracy:', score(w, 0, X_test, y_test)) "
   ]
  },
  {
   "cell_type": "markdown",
   "metadata": {},
   "source": [
    "<P>Write a function <code>perceptron_train_version4</code> that trains a perceptron but this time, unlike version 3 above, rather than return the final weight vector and bias term, the function will compute an <em>averaged</em> perceptron and return the average weight vector and the average bias term. The function should take as input an array <code>X</code> of feature vectors and an array <code>y</code> of labels. It should implement the <em>averaged</em> perceptron training algorithm which keeps track of the average weight vector and bias term, where the average is over all intermediary weight vectors and bias terms that it computes throughout its learning. The number of epochs should be 20. The function should shuffle the data at the start of each epoch. The function should return two elements, the average weight vector and the average bias term.</P>"
   ]
  },
  {
   "cell_type": "code",
   "execution_count": 37,
   "metadata": {},
   "outputs": [],
   "source": [
    "# The perceptron_train_version4 function takes an array X of feature vectors and an array y of labels as input.\n",
    "# The function trains a perceptron. The number of epochs should be 20.\n",
    "# The data is shuffled at the start of each epoch.\n",
    "# The function implements the *averaged* perceptron learning algorithm.\n",
    "# The function returns the *average* weight vector w and the *average* bias term b that it learns.\n",
    "\n",
    "\n",
    "def perceptron_train_version4 (X,y):\n",
    "    num_epochs = 20\n",
    "    b=0\n",
    "    w=np.zeros(X.shape[1])\n",
    "    w_tot = 0\n",
    "    b_tot = 0\n",
    "    \n",
    "    \n",
    "    #print(w.shape)\n",
    "    \n",
    "    for epoch in range(num_epochs):\n",
    "        X,y = shuffle(X,y)\n",
    "        for i in range(X.shape[0]): \n",
    "            predicted = np.dot(X[i], w)\n",
    "            #print(predicted)\n",
    "            if (y[i]*(predicted+b) <= 0).all():\n",
    "                w = w + y[i]*X[i]\n",
    "                w_tot = w_tot + w\n",
    "                b = b + y[i]  \n",
    "                b_tot = b_tot + b\n",
    "    \n",
    "    return (w_tot/num_epochs, b_tot/num_epochs)\n"
   ]
  },
  {
   "cell_type": "markdown",
   "metadata": {},
   "source": [
    "<P>Use your <code>perceptron_train_version4</code> function to train a perceptron on the <em>training</em> data. Then use the <code>score</code> function to assess the accuracy of the perceptron first on the <em>training</em> data and second on the <em>testing</em> data.</P>"
   ]
  },
  {
   "cell_type": "code",
   "execution_count": 38,
   "metadata": {},
   "outputs": [],
   "source": [
    "# Assess the accuracy of your perceptron (version 4) on the training data and on the testing data\n",
    "ptv4 = perceptron_train_version4 (X_train, y_train)\n",
    "w = ptv4[0]\n",
    "\n",
    "\n"
   ]
  },
  {
   "cell_type": "markdown",
   "metadata": {},
   "source": [
    "<P><font color=\"maroon\"><u>What is the accuracy of your <em>version4</em> perceptron on the <em>training</em> data?</u></font></P>\n",
    "<P><font color=\"maroon\"><u>What is the accuracy of your <em>version4</em> perceptron on the <em>testing</em> data?</u></font></P>"
   ]
  },
  {
   "cell_type": "code",
   "execution_count": 39,
   "metadata": {},
   "outputs": [
    {
     "name": "stdout",
     "output_type": "stream",
     "text": [
      "Training accuracy: 0.8633333333333333\n",
      "Testing accuracy: 0.865\n"
     ]
    }
   ],
   "source": [
    "print('Training accuracy:', score (w, 0, X_train, y_train))\n",
    "print('Testing accuracy:', score(w, 0, X_test, y_test))"
   ]
  },
  {
   "cell_type": "markdown",
   "metadata": {},
   "source": [
    "<P>Please answer the following question that relates to the relative performance of the perceptron when trained using version 1, version 2, version 3, and version 4:</P>\n",
    "<P><font color=\"maroon\"><u>Which perceptron training advancement led to the biggest increase in accuracy on the <em>testing</em> data: updating the bias term, shuffling the data at the start of each epoch, using the average weight vector and bias term?</u></font></P>"
   ]
  },
  {
   "cell_type": "markdown",
   "metadata": {},
   "source": [
    "The second training advancement of updating the bias term led to the biggest increase in accuracy on the testing data."
   ]
  },
  {
   "cell_type": "markdown",
   "metadata": {},
   "source": [
    "<P>Throughout this task, you should not have used the <code>sklearn</code> library at all. For this final part, you should now use the <code>sklearn</code> library. Create an <code>sklearn</code> Perceptron setting the number of epochs to be 20 and the random_state to be 0. Train the perceptron on the <em>training</em> data and assess its accuracy on both the <em>training</em> data and the <em>testing</em> data.</P> "
   ]
  },
  {
   "cell_type": "code",
   "execution_count": 40,
   "metadata": {},
   "outputs": [
    {
     "name": "stdout",
     "output_type": "stream",
     "text": [
      "Accuracy of perceptron on training: 0.8933333333333333\n",
      "Accuracy of perceptron on testing: 0.885\n"
     ]
    },
    {
     "name": "stderr",
     "output_type": "stream",
     "text": [
      "/Users/kimberleykimura/opt/anaconda3/lib/python3.9/site-packages/sklearn/utils/validation.py:993: DataConversionWarning: A column-vector y was passed when a 1d array was expected. Please change the shape of y to (n_samples, ), for example using ravel().\n",
      "  y = column_or_1d(y, warn=True)\n"
     ]
    }
   ],
   "source": [
    "# Create an sklearn Perceptron with the number of epochs set to 20 and the random_state set to 0.\n",
    "# Train the perceptron and assess its accuracy on both the training data and the testing data.\n",
    "\n",
    "from sklearn import linear_model  # Using sklearn Perceptron classifier\n",
    "perceptron = linear_model.Perceptron(max_iter=20, random_state=0)\n",
    "perceptron.fit(X_train, y_train)\n",
    "\n",
    "\n"
   ]
  },
  {
   "cell_type": "markdown",
   "metadata": {},
   "source": [
    "<P><font color=\"maroon\"><u>What is the accuracy of the <code>sklearn</code> perceptron on the <em>training</em> data?</u></font></P>\n",
    "<P><font color=\"maroon\"><u>What is the accuracy of the <code>sklearn</code> perceptron on the <em>testing</em> data?</u></font></P>"
   ]
  },
  {
   "cell_type": "code",
   "execution_count": 41,
   "metadata": {},
   "outputs": [
    {
     "name": "stdout",
     "output_type": "stream",
     "text": [
      "Accuracy of perceptron on training: 0.8933333333333333\n",
      "Accuracy of perceptron on testing: 0.885\n"
     ]
    }
   ],
   "source": [
    "print('Accuracy of perceptron on training: ' + str(perceptron.score(X_train, y_train)))\n",
    "print('Accuracy of perceptron on testing: ' + str(perceptron.score(X_test, y_test)))"
   ]
  },
  {
   "cell_type": "markdown",
   "metadata": {},
   "source": [
    "<P><font color=\"maroon\"><u>How does the accuracy of your averaged perceptron (version 4) compare with that of <code>sklearn</code>'s perceptron?</u></font></P>"
   ]
  },
  {
   "cell_type": "markdown",
   "metadata": {},
   "source": [
    "The sklearn's perceptron is more accurate than our averaged perceptron."
   ]
  },
  {
   "cell_type": "markdown",
   "metadata": {},
   "source": [
    "<H2>Submitting your work\n",
    "</H2>"
   ]
  },
  {
   "cell_type": "markdown",
   "metadata": {},
   "source": [
    "<P><font color=\"maroon\"><u>Please indicate your name and the names of any partner that worked with you on this project:</u></font></P>"
   ]
  },
  {
   "cell_type": "markdown",
   "metadata": {},
   "source": [
    "Name(s): Kimberley Kimura and Kate MacVicar"
   ]
  },
  {
   "cell_type": "markdown",
   "metadata": {},
   "source": [
    "<P><font color=\"maroon\"><u>Please indicate anyone else that you collaborated with in the process of doing the project:</u></font></P>"
   ]
  },
  {
   "cell_type": "markdown",
   "metadata": {},
   "source": [
    "Collaborators: "
   ]
  },
  {
   "cell_type": "markdown",
   "metadata": {},
   "source": [
    "<P><font color=\"maroon\"><u>When working on this project, approximately how many hours did you spend on each of (1) Task 1, (2) Task 2, (3) Task 3, and (4) Total?</u></font></P>"
   ]
  },
  {
   "cell_type": "markdown",
   "metadata": {},
   "source": [
    "Hours on Task 1: 15 minutes\n",
    "Hours on Task 2: 40 minutes\n",
    "Hours on Task 3: 150 minutes\n",
    "Total hours: 205 minutes"
   ]
  },
  {
   "cell_type": "markdown",
   "metadata": {},
   "source": [
    "<P><font color=\"maroon\"><u>When working on this project, did you abide by the <a href=\"https://www.wellesley.edu/studentlife/aboutus/honor\">Honor Code</a> and is all of the work that you are submitting your own and/or your partner's?</u></font></P>"
   ]
  },
  {
   "cell_type": "markdown",
   "metadata": {},
   "source": [
    "Abide by Honor Code: Kimberley Kimura and Kate MacVicar"
   ]
  },
  {
   "cell_type": "markdown",
   "metadata": {},
   "source": [
    "<P><font color=\"maroon\"><u>To submit this project, please upload your <code>Project2.ipynb</code> file to the <code>Project2</code> folder that the instructor created and shared with you in your Google drive.</u></font></P>"
   ]
  }
 ],
 "metadata": {
  "kernelspec": {
   "display_name": "Python 3 (ipykernel)",
   "language": "python",
   "name": "python3"
  },
  "language_info": {
   "codemirror_mode": {
    "name": "ipython",
    "version": 3
   },
   "file_extension": ".py",
   "mimetype": "text/x-python",
   "name": "python",
   "nbconvert_exporter": "python",
   "pygments_lexer": "ipython3",
   "version": "3.9.13"
  }
 },
 "nbformat": 4,
 "nbformat_minor": 2
}
