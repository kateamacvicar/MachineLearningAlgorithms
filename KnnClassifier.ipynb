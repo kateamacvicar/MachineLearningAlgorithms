{
 "cells": [
  {
   "cell_type": "markdown",
   "metadata": {},
   "source": [
    "<H1><center>Project 1<BR><BR>\n",
    "Classification with <em>k</em> Nearest Neighbors</center></H1>"
   ]
  },
  {
   "cell_type": "markdown",
   "metadata": {},
   "source": [
    "<H2>Task 1: Chatbots\n",
    "</H2>"
   ]
  },
  {
   "cell_type": "markdown",
   "metadata": {},
   "source": [
    "<P>Read <a href=\"https://www.nytimes.com/2022/12/21/technology/personaltech/how-to-use-chatgpt-ethically.html\">this article</a> about ChatGPT.</P>\n",
    "\n",
    "<P>Please answer (minimum 200 words) the following questions in the space below. In your opinion, what is one or more positive uses of ChatGPT? What is one or more problematic aspects of ChatGPT? When weighing the positive and negative aspects, do you think technologies like ChatGPT are a net positive or net negative contribution to society? Why? How might we (as researchers, as companies, as a society) minimize the problematic uses and aspects of technologies like ChatGPT?</P>"
   ]
  },
  {
   "cell_type": "markdown",
   "metadata": {},
   "source": []
  },
  {
   "cell_type": "markdown",
   "metadata": {},
   "source": [
    "\n",
    "\n",
    "\n",
    "\n",
    "\n",
    "\n",
    "\n",
    "\n"
   ]
  },
  {
   "cell_type": "markdown",
   "metadata": {},
   "source": [
    "<H2>Task 2: Classifying diabetes with <em>k</em>NN\n",
    "</H2>"
   ]
  },
  {
   "cell_type": "markdown",
   "metadata": {},
   "source": [
    "<P>Together with the downloaded file containing this notebook, you should find three comma-separated values (csv) files named <code>diabetes_training.csv</code>, <code>diabetes_validation.csv</code>, and <code>diabetes_testing.csv</code>, corresponding to training, validation, and testing data, respectively. The first row of each file contains header information. Each subsequent row represents a person of <a href=\"https://en.wikipedia.org/wiki/Pima_people\">Pima</a> Native American heritage, with feature values separated by commas. The very last column is the label, 0 or 1, which denotes whether or not that person has diabetes. The rest of the columns are, in order,</P>\n",
    "<ol>\n",
    "<li>Number of times pregnant</li>\n",
    "<li>Plasma glucose concentration at 2 hours in an oral glucose tolerance test</li>\n",
    "<li>Diastolic blood pressure (mm Hg)</li>\n",
    "<li>Triceps skin fold thickness (mm)</li>\n",
    "<li>2-Hour serum insulin (mu U/ml)</li>\n",
    "<li>Body mass index (weight in kg/(height in m)^2)</li>\n",
    "<li>Diabetes pedigree function</li>\n",
    "<li>Age (years)</li>\n",
    "</ol>\n",
    "<P>In this task, you will work with the <em>k</em> nearest neighbors algorithm and use it to predict whether someone has diabetes based on various diagnostic measurements.</P>"
   ]
  },
  {
   "cell_type": "markdown",
   "metadata": {},
   "source": [
    "<P>Write a function <code>load</code> that takes a <code>csv</code> file as input, reads in the file, and returns a tuple <code>(X, y)</code>, where <code>X</code> is a data matrix corresponding to the feature values and <code>y</code> is a vector corresponding to the labels. Your function should ignore the first (header) row of the file and it should assume that the labels are in the final column in the file.</P>"
   ]
  },
  {
   "cell_type": "code",
   "execution_count": 1,
   "metadata": {},
   "outputs": [],
   "source": [
    "import numpy as np\n",
    "def load(csv_file):\n",
    "    \"\"\"given a CSV file where each row is a data point,\n",
    "    with the last column being the label and the rest being the vector,\n",
    "    return a tuple consisting of two elements:\n",
    "    (1) a matrix where each row is a vector, in the same order as they appear in the file\n",
    "    (2) an array where the ith element is the label of the ith vector above.\n",
    "    \"\"\"\n",
    "    DATA = np.loadtxt(csv_file, delimiter = ',', skiprows=1)\n",
    "    X= DATA[:,:-1] #everything but the last column\n",
    "    y=DATA[:,-1] #just the last column\n",
    "    # Hint: Use https://docs.scipy.org/doc/numpy/reference/generated/numpy.loadtxt.html\n",
    "    return X,y\n",
    "\n",
    "X,y = load(\"diabetes_training.csv\")\n",
    "\n",
    "\n"
   ]
  },
  {
   "cell_type": "markdown",
   "metadata": {},
   "source": [
    "<P>As with any code that you write, it is <em>strongly</em> recommended that you test your code. For example, with your <code>load</code> function above, you might want to invoke the function on one of the diabetes files and print out the dimensions of the returned <code>X</code> and <code>y</code> matrices as well as the first few rows of each. You can then compare this printed out information to the data in the file by opening up the file (e.g., with a spreadsheet program) and viewing the contents of the file.</P>"
   ]
  },
  {
   "cell_type": "markdown",
   "metadata": {},
   "source": [
    "<P>Write a function <code>knn_predict</code> that takes three parameters, a training data matrix, the associated labels for the training data, and a testing data matrix. Using the <em>k</em> nearest neighbors algorithm, the function should return an array containing the predicted labels of each row (in order) for the testing data matrix. The function need only work for <em>k</em>=1 and the Euclidean distance metric (i.e., the L2 norm). While not part of this project, if you want to challenge yourself, implement the function so that it works for different values of <em>k</em> or different distance metrics. You should <font color='red'><em>not</em></font> perform any feature scaling in this task (that will come in Task 4 :).</P>\n",
    "<P>Your function may use <code>numpy</code> functions such as <code>numpy.linalg.norm</code>, which calculates distances, but it may <font color='red'><em>not</em></font> use any functions from <code>sklearn</code>! You may use helper functions as you deem appropriate.\n",
    "</P>"
   ]
  },
  {
   "cell_type": "code",
   "execution_count": 5,
   "metadata": {},
   "outputs": [],
   "source": [
    "def knn_predict(trainX, trainy, testX):\n",
    "    \"\"\"predict the labels of the testX data points\n",
    "    using k=1 Nearest Neighbors and Euclidean distance, \n",
    "    and return as a vector of predictions\"\"\"\n",
    "    testInd = 0\n",
    "    predictY = np.zeros(shape=(testX.shape[0],1)) \n",
    "    for test in testX:\n",
    "        first = True\n",
    "        closest = 0 #to compare the distances and find the smallest one\n",
    "        lineNum = 0 #to keep track of what line number the smallest distance is\n",
    "        for index in range(trainX.shape[0]):\n",
    "            train = trainX[index, :]\n",
    "            dist = abs(np.linalg.norm(test-train))\n",
    "            if closest == 0 and first:\n",
    "                closest = dist\n",
    "                first = False \n",
    "                lineNum = index\n",
    "            elif dist < closest:\n",
    "                closest = dist\n",
    "                lineNum = index\n",
    "        predictY[testInd] = trainy[lineNum]\n",
    "        testInd += 1   \n",
    "    return predictY\n",
    "\n",
    "trainX, trainy = load(\"diabetes_training.csv\")\n",
    "testX, testy = load(\"diabetes_testing.csv\")\n",
    "validationX, validationy = load(\"diabetes_validation.csv\")\n",
    "predicty = knn_predict(trainX, trainy, testX)\n"
   ]
  },
  {
   "cell_type": "markdown",
   "metadata": {},
   "source": [
    "<P>Write a function <code>get_accuracy</code> that takes an array of true labels and an array of predicted labels and returns the relative accuracy, i.e., the percentage of labels in common between the two arrays.</P>"
   ]
  },
  {
   "cell_type": "code",
   "execution_count": 50,
   "metadata": {},
   "outputs": [
    {
     "name": "stdout",
     "output_type": "stream",
     "text": [
      "0.6538461538461539\n"
     ]
    }
   ],
   "source": [
    "def get_accuracy(y_true, y_predicted):\n",
    "    \"\"\"returns the fraction of correct predictions in y_predicted compared to y_true\"\"\"\n",
    "    tru = 0\n",
    "    for ind in range(y_true.shape[0]):\n",
    "        yTrue = y_true[ind]\n",
    "        yPred = y_predicted[ind]\n",
    "        if yTrue == yPred:\n",
    "            tru += 1\n",
    "    return tru / y_true.shape[0]\n",
    "\n",
    "print(get_accuracy(testy,predicty));\n"
   ]
  },
  {
   "cell_type": "markdown",
   "metadata": {},
   "source": [
    "<P><font color=\"maroon\"><u>What is the accuracy of your <em>k</em> nearest neighbors algorithm (using <em>k</em>=1 and the Euclidean distance metric) on the diabetes test data?</u></font></P>"
   ]
  },
  {
   "cell_type": "markdown",
   "metadata": {},
   "source": [
    "Report your accuracy here: 65.4% "
   ]
  },
  {
   "cell_type": "markdown",
   "metadata": {},
   "source": [
    "<H2>Task 3: Hyperparameter tuning with <em>k</em>NN\n",
    "</H2>"
   ]
  },
  {
   "cell_type": "markdown",
   "metadata": {},
   "source": [
    "<P>In this task, you will use the validation data to explore the hyperparameter space of the <em>k</em>NN approach. Above, you implemented your own <em>k</em>NN classification approach. Here, we will use the <code>sklearn</code> <em>k</em>NN classification approach, as it allows setting different distance metrics and different values for <em>k</em>, which your approach may not have done. To start, write a function <code>sklearn_knn_predict</code> that uses <code>sklearn</code>'s <code>KNeighborClassifier</code> to make classification predictions. The function should have five inputs: a set of training data, a set of training labels, a set of evaluation data, a distance metric such as 'euclidean' or 'manhattan', and a value for <em>k</em>. The function should return an array of classification predictions. When creating an <a href=\"http://scikit-learn.org/stable/modules/generated/sklearn.neighbors.KNeighborsClassifier.html\">sklearn.neighbors.KNeighborsClassifer</a> instance, you should provide three inputs: <code>algorithm='brute'</code> uses the same <em>k</em>NN algorithm that you implemented above, <code>metric=distance_metric</code> uses the distance metric provided as input to your <code>sklearn_knn_predict</code> function, and <code>n_neighbors=k</code> uses the value of <em>k</em> provided as input to your <code>sklearn_knn_predict</code> function. You should <font color='red'><em>not</em></font> perform any feature scaling in this task (that will come in Task 4 :).\n",
    "</P>"
   ]
  },
  {
   "cell_type": "code",
   "execution_count": 46,
   "metadata": {},
   "outputs": [
    {
     "name": "stdout",
     "output_type": "stream",
     "text": [
      "[0. 1. 0. 1. 0. 1. 0. 1. 0. 0. 0. 1. 0. 0. 1. 0. 0. 0. 0. 0. 0. 1. 1. 1.\n",
      " 0. 0. 0. 1. 0. 0. 0. 0. 0. 0. 0. 1. 0. 0. 1. 0. 0. 0. 0. 0. 0. 0. 0. 0.\n",
      " 0. 1. 1. 1. 0. 0. 0. 0. 1. 0. 1. 0. 0. 0. 1. 0. 0. 0. 0. 1. 1. 1. 1. 0.\n",
      " 1. 1. 0. 0. 0. 0. 0. 0. 1. 0. 0. 1. 0. 0. 0. 0. 1. 0. 0. 0. 0. 0. 0. 1.\n",
      " 1. 0. 0. 0. 0. 0. 0. 1. 1. 0. 0. 0. 0. 0. 0. 0. 1. 0. 0. 0. 0. 0. 1. 0.\n",
      " 0. 0. 1. 0. 0. 1. 0. 0. 1. 1. 0. 1. 0. 1. 0. 0. 0. 1. 0. 0. 0. 0. 0. 0.\n",
      " 0. 0. 0. 0. 0. 1. 0. 0. 1. 1. 1. 1.]\n"
     ]
    },
    {
     "name": "stderr",
     "output_type": "stream",
     "text": [
      "C:\\Users\\macvi\\anaconda3\\lib\\site-packages\\sklearn\\neighbors\\_classification.py:228: FutureWarning: Unlike other reduction functions (e.g. `skew`, `kurtosis`), the default behavior of `mode` typically preserves the axis it acts along. In SciPy 1.11.0, this behavior will change: the default value of `keepdims` will become False, the `axis` over which the statistic is taken will be eliminated, and the value None will no longer be accepted. Set `keepdims` to True or False to avoid this warning.\n",
      "  mode, _ = stats.mode(_y[neigh_ind, k], axis=1)\n"
     ]
    },
    {
     "data": {
      "text/plain": [
       "0.6538461538461539"
      ]
     },
     "execution_count": 46,
     "metadata": {},
     "output_type": "execute_result"
    }
   ],
   "source": [
    "from sklearn.neighbors import KNeighborsClassifier\n",
    "def sklearn_knn_predict(trainX, trainy, testX, distance_metric, k):\n",
    "    model = KNeighborsClassifier(n_neighbors=k,metric=distance_metric, algorithm=\"brute\")\n",
    "    model.fit(trainX, trainy)\n",
    "    return model.predict(testX)\n",
    "\n",
    "predicty = sklearn_knn_predict(trainX, trainy, testX, \"euclidean\", 1)\n",
    "print(predicty)\n",
    "get_accuracy(testy, predicty)"
   ]
  },
  {
   "cell_type": "markdown",
   "metadata": {},
   "source": [
    "<P><font color=\"maroon\"><u>What is the accuracy of the <code>sklearn</code> <em>k</em> nearest neighbors algorithm (using <em>k</em>=1 and the Euclidean distance metric) on the diabetes test data?</u></font></P>"
   ]
  },
  {
   "cell_type": "markdown",
   "metadata": {},
   "source": [
    "Report your accuracy here: 65.4%"
   ]
  },
  {
   "cell_type": "markdown",
   "metadata": {},
   "source": [
    "<P>Define a function <code>knn_grid_search</code> that takes as input the training data vectors <code>trainX</code>, the associated training labels <code>trainy</code>, the validation data <code>validationX</code>, the associated validation labels <code>validationy</code>, a list of distance metrics, and list of values for <em>k</em>. For each distance metric and value of <em>k</em>, the function should train a <em>k</em>NN classifier on the training data and test its accuracy on the validation data. It should return a dictionary mapping each <code>(metric, k)</code> tuple such as <code>('euclidean', 3)</code> to the validation accuracy for those two parameters.\n",
    "</P>"
   ]
  },
  {
   "cell_type": "code",
   "execution_count": 47,
   "metadata": {},
   "outputs": [],
   "source": [
    "def knn_grid_search(trainX, trainy, validationX, validationy, distance_metric_list, n_neighbors_list):\n",
    "    \"\"\"For each metric in distance_metric_list, and each value k in n_neighbors_list,\n",
    "    trains knn classifiers with those parameters\n",
    "    on the training data and computes the accuracy on the validation data.\n",
    "    Returns a dictionary mapping each value of the hyperparameter pair (metric, k)\n",
    "    to the accuracy with those hyperparameters on the validation data\n",
    "    \"\"\"\n",
    "    predictyDict = {}\n",
    "    for metric in distance_metric_list:\n",
    "        for k in n_neighbors_list:\n",
    "            predicty = sklearn_knn_predict(trainX, trainy, validationX, metric, k) #use validationx to get our prediction.\n",
    "            predictyDict[(metric,k)] = get_accuracy(validationy, predicty) #compare our prediction to the testing y column\n",
    "    return predictyDict\n"
   ]
  },
  {
   "cell_type": "markdown",
   "metadata": {},
   "source": [
    "<P>Consider two distance metrics, 'euclidean' and 'manhattan', and the following ten values for <em>k</em>: 1,3,5,7,9,11,13,15,17,19. For these possible hyperparameter values, print out the distance metric and value for <em>k</em> that correspond to the highest accuracy of the <em>k</em>NN classifier on the validation data. Also, print out the accuracy of the classifier on the <em>test</em> data using this pair of parameters.</P>"
   ]
  },
  {
   "cell_type": "code",
   "execution_count": 57,
   "metadata": {
    "collapsed": true,
    "jupyter": {
     "outputs_hidden": true
    },
    "tags": []
   },
   "outputs": [
    {
     "name": "stderr",
     "output_type": "stream",
     "text": [
      "C:\\Users\\macvi\\anaconda3\\lib\\site-packages\\sklearn\\neighbors\\_classification.py:228: FutureWarning: Unlike other reduction functions (e.g. `skew`, `kurtosis`), the default behavior of `mode` typically preserves the axis it acts along. In SciPy 1.11.0, this behavior will change: the default value of `keepdims` will become False, the `axis` over which the statistic is taken will be eliminated, and the value None will no longer be accepted. Set `keepdims` to True or False to avoid this warning.\n",
      "  mode, _ = stats.mode(_y[neigh_ind, k], axis=1)\n",
      "C:\\Users\\macvi\\anaconda3\\lib\\site-packages\\sklearn\\neighbors\\_classification.py:228: FutureWarning: Unlike other reduction functions (e.g. `skew`, `kurtosis`), the default behavior of `mode` typically preserves the axis it acts along. In SciPy 1.11.0, this behavior will change: the default value of `keepdims` will become False, the `axis` over which the statistic is taken will be eliminated, and the value None will no longer be accepted. Set `keepdims` to True or False to avoid this warning.\n",
      "  mode, _ = stats.mode(_y[neigh_ind, k], axis=1)\n",
      "C:\\Users\\macvi\\anaconda3\\lib\\site-packages\\sklearn\\neighbors\\_classification.py:228: FutureWarning: Unlike other reduction functions (e.g. `skew`, `kurtosis`), the default behavior of `mode` typically preserves the axis it acts along. In SciPy 1.11.0, this behavior will change: the default value of `keepdims` will become False, the `axis` over which the statistic is taken will be eliminated, and the value None will no longer be accepted. Set `keepdims` to True or False to avoid this warning.\n",
      "  mode, _ = stats.mode(_y[neigh_ind, k], axis=1)\n",
      "C:\\Users\\macvi\\anaconda3\\lib\\site-packages\\sklearn\\neighbors\\_classification.py:228: FutureWarning: Unlike other reduction functions (e.g. `skew`, `kurtosis`), the default behavior of `mode` typically preserves the axis it acts along. In SciPy 1.11.0, this behavior will change: the default value of `keepdims` will become False, the `axis` over which the statistic is taken will be eliminated, and the value None will no longer be accepted. Set `keepdims` to True or False to avoid this warning.\n",
      "  mode, _ = stats.mode(_y[neigh_ind, k], axis=1)\n",
      "C:\\Users\\macvi\\anaconda3\\lib\\site-packages\\sklearn\\neighbors\\_classification.py:228: FutureWarning: Unlike other reduction functions (e.g. `skew`, `kurtosis`), the default behavior of `mode` typically preserves the axis it acts along. In SciPy 1.11.0, this behavior will change: the default value of `keepdims` will become False, the `axis` over which the statistic is taken will be eliminated, and the value None will no longer be accepted. Set `keepdims` to True or False to avoid this warning.\n",
      "  mode, _ = stats.mode(_y[neigh_ind, k], axis=1)\n",
      "C:\\Users\\macvi\\anaconda3\\lib\\site-packages\\sklearn\\neighbors\\_classification.py:228: FutureWarning: Unlike other reduction functions (e.g. `skew`, `kurtosis`), the default behavior of `mode` typically preserves the axis it acts along. In SciPy 1.11.0, this behavior will change: the default value of `keepdims` will become False, the `axis` over which the statistic is taken will be eliminated, and the value None will no longer be accepted. Set `keepdims` to True or False to avoid this warning.\n",
      "  mode, _ = stats.mode(_y[neigh_ind, k], axis=1)\n",
      "C:\\Users\\macvi\\anaconda3\\lib\\site-packages\\sklearn\\neighbors\\_classification.py:228: FutureWarning: Unlike other reduction functions (e.g. `skew`, `kurtosis`), the default behavior of `mode` typically preserves the axis it acts along. In SciPy 1.11.0, this behavior will change: the default value of `keepdims` will become False, the `axis` over which the statistic is taken will be eliminated, and the value None will no longer be accepted. Set `keepdims` to True or False to avoid this warning.\n",
      "  mode, _ = stats.mode(_y[neigh_ind, k], axis=1)\n",
      "C:\\Users\\macvi\\anaconda3\\lib\\site-packages\\sklearn\\neighbors\\_classification.py:228: FutureWarning: Unlike other reduction functions (e.g. `skew`, `kurtosis`), the default behavior of `mode` typically preserves the axis it acts along. In SciPy 1.11.0, this behavior will change: the default value of `keepdims` will become False, the `axis` over which the statistic is taken will be eliminated, and the value None will no longer be accepted. Set `keepdims` to True or False to avoid this warning.\n",
      "  mode, _ = stats.mode(_y[neigh_ind, k], axis=1)\n",
      "C:\\Users\\macvi\\anaconda3\\lib\\site-packages\\sklearn\\neighbors\\_classification.py:228: FutureWarning: Unlike other reduction functions (e.g. `skew`, `kurtosis`), the default behavior of `mode` typically preserves the axis it acts along. In SciPy 1.11.0, this behavior will change: the default value of `keepdims` will become False, the `axis` over which the statistic is taken will be eliminated, and the value None will no longer be accepted. Set `keepdims` to True or False to avoid this warning.\n",
      "  mode, _ = stats.mode(_y[neigh_ind, k], axis=1)\n",
      "C:\\Users\\macvi\\anaconda3\\lib\\site-packages\\sklearn\\neighbors\\_classification.py:228: FutureWarning: Unlike other reduction functions (e.g. `skew`, `kurtosis`), the default behavior of `mode` typically preserves the axis it acts along. In SciPy 1.11.0, this behavior will change: the default value of `keepdims` will become False, the `axis` over which the statistic is taken will be eliminated, and the value None will no longer be accepted. Set `keepdims` to True or False to avoid this warning.\n",
      "  mode, _ = stats.mode(_y[neigh_ind, k], axis=1)\n",
      "C:\\Users\\macvi\\anaconda3\\lib\\site-packages\\sklearn\\neighbors\\_classification.py:228: FutureWarning: Unlike other reduction functions (e.g. `skew`, `kurtosis`), the default behavior of `mode` typically preserves the axis it acts along. In SciPy 1.11.0, this behavior will change: the default value of `keepdims` will become False, the `axis` over which the statistic is taken will be eliminated, and the value None will no longer be accepted. Set `keepdims` to True or False to avoid this warning.\n",
      "  mode, _ = stats.mode(_y[neigh_ind, k], axis=1)\n",
      "C:\\Users\\macvi\\anaconda3\\lib\\site-packages\\sklearn\\neighbors\\_classification.py:228: FutureWarning: Unlike other reduction functions (e.g. `skew`, `kurtosis`), the default behavior of `mode` typically preserves the axis it acts along. In SciPy 1.11.0, this behavior will change: the default value of `keepdims` will become False, the `axis` over which the statistic is taken will be eliminated, and the value None will no longer be accepted. Set `keepdims` to True or False to avoid this warning.\n",
      "  mode, _ = stats.mode(_y[neigh_ind, k], axis=1)\n",
      "C:\\Users\\macvi\\anaconda3\\lib\\site-packages\\sklearn\\neighbors\\_classification.py:228: FutureWarning: Unlike other reduction functions (e.g. `skew`, `kurtosis`), the default behavior of `mode` typically preserves the axis it acts along. In SciPy 1.11.0, this behavior will change: the default value of `keepdims` will become False, the `axis` over which the statistic is taken will be eliminated, and the value None will no longer be accepted. Set `keepdims` to True or False to avoid this warning.\n",
      "  mode, _ = stats.mode(_y[neigh_ind, k], axis=1)\n",
      "C:\\Users\\macvi\\anaconda3\\lib\\site-packages\\sklearn\\neighbors\\_classification.py:228: FutureWarning: Unlike other reduction functions (e.g. `skew`, `kurtosis`), the default behavior of `mode` typically preserves the axis it acts along. In SciPy 1.11.0, this behavior will change: the default value of `keepdims` will become False, the `axis` over which the statistic is taken will be eliminated, and the value None will no longer be accepted. Set `keepdims` to True or False to avoid this warning.\n",
      "  mode, _ = stats.mode(_y[neigh_ind, k], axis=1)\n",
      "C:\\Users\\macvi\\anaconda3\\lib\\site-packages\\sklearn\\neighbors\\_classification.py:228: FutureWarning: Unlike other reduction functions (e.g. `skew`, `kurtosis`), the default behavior of `mode` typically preserves the axis it acts along. In SciPy 1.11.0, this behavior will change: the default value of `keepdims` will become False, the `axis` over which the statistic is taken will be eliminated, and the value None will no longer be accepted. Set `keepdims` to True or False to avoid this warning.\n",
      "  mode, _ = stats.mode(_y[neigh_ind, k], axis=1)\n",
      "C:\\Users\\macvi\\anaconda3\\lib\\site-packages\\sklearn\\neighbors\\_classification.py:228: FutureWarning: Unlike other reduction functions (e.g. `skew`, `kurtosis`), the default behavior of `mode` typically preserves the axis it acts along. In SciPy 1.11.0, this behavior will change: the default value of `keepdims` will become False, the `axis` over which the statistic is taken will be eliminated, and the value None will no longer be accepted. Set `keepdims` to True or False to avoid this warning.\n",
      "  mode, _ = stats.mode(_y[neigh_ind, k], axis=1)\n",
      "C:\\Users\\macvi\\anaconda3\\lib\\site-packages\\sklearn\\neighbors\\_classification.py:228: FutureWarning: Unlike other reduction functions (e.g. `skew`, `kurtosis`), the default behavior of `mode` typically preserves the axis it acts along. In SciPy 1.11.0, this behavior will change: the default value of `keepdims` will become False, the `axis` over which the statistic is taken will be eliminated, and the value None will no longer be accepted. Set `keepdims` to True or False to avoid this warning.\n",
      "  mode, _ = stats.mode(_y[neigh_ind, k], axis=1)\n",
      "C:\\Users\\macvi\\anaconda3\\lib\\site-packages\\sklearn\\neighbors\\_classification.py:228: FutureWarning: Unlike other reduction functions (e.g. `skew`, `kurtosis`), the default behavior of `mode` typically preserves the axis it acts along. In SciPy 1.11.0, this behavior will change: the default value of `keepdims` will become False, the `axis` over which the statistic is taken will be eliminated, and the value None will no longer be accepted. Set `keepdims` to True or False to avoid this warning.\n",
      "  mode, _ = stats.mode(_y[neigh_ind, k], axis=1)\n",
      "C:\\Users\\macvi\\anaconda3\\lib\\site-packages\\sklearn\\neighbors\\_classification.py:228: FutureWarning: Unlike other reduction functions (e.g. `skew`, `kurtosis`), the default behavior of `mode` typically preserves the axis it acts along. In SciPy 1.11.0, this behavior will change: the default value of `keepdims` will become False, the `axis` over which the statistic is taken will be eliminated, and the value None will no longer be accepted. Set `keepdims` to True or False to avoid this warning.\n",
      "  mode, _ = stats.mode(_y[neigh_ind, k], axis=1)\n",
      "C:\\Users\\macvi\\anaconda3\\lib\\site-packages\\sklearn\\neighbors\\_classification.py:228: FutureWarning: Unlike other reduction functions (e.g. `skew`, `kurtosis`), the default behavior of `mode` typically preserves the axis it acts along. In SciPy 1.11.0, this behavior will change: the default value of `keepdims` will become False, the `axis` over which the statistic is taken will be eliminated, and the value None will no longer be accepted. Set `keepdims` to True or False to avoid this warning.\n",
      "  mode, _ = stats.mode(_y[neigh_ind, k], axis=1)\n",
      "C:\\Users\\macvi\\anaconda3\\lib\\site-packages\\sklearn\\neighbors\\_classification.py:228: FutureWarning: Unlike other reduction functions (e.g. `skew`, `kurtosis`), the default behavior of `mode` typically preserves the axis it acts along. In SciPy 1.11.0, this behavior will change: the default value of `keepdims` will become False, the `axis` over which the statistic is taken will be eliminated, and the value None will no longer be accepted. Set `keepdims` to True or False to avoid this warning.\n",
      "  mode, _ = stats.mode(_y[neigh_ind, k], axis=1)\n",
      "C:\\Users\\macvi\\anaconda3\\lib\\site-packages\\sklearn\\neighbors\\_classification.py:228: FutureWarning: Unlike other reduction functions (e.g. `skew`, `kurtosis`), the default behavior of `mode` typically preserves the axis it acts along. In SciPy 1.11.0, this behavior will change: the default value of `keepdims` will become False, the `axis` over which the statistic is taken will be eliminated, and the value None will no longer be accepted. Set `keepdims` to True or False to avoid this warning.\n",
      "  mode, _ = stats.mode(_y[neigh_ind, k], axis=1)\n",
      "C:\\Users\\macvi\\anaconda3\\lib\\site-packages\\sklearn\\neighbors\\_classification.py:228: FutureWarning: Unlike other reduction functions (e.g. `skew`, `kurtosis`), the default behavior of `mode` typically preserves the axis it acts along. In SciPy 1.11.0, this behavior will change: the default value of `keepdims` will become False, the `axis` over which the statistic is taken will be eliminated, and the value None will no longer be accepted. Set `keepdims` to True or False to avoid this warning.\n",
      "  mode, _ = stats.mode(_y[neigh_ind, k], axis=1)\n",
      "C:\\Users\\macvi\\anaconda3\\lib\\site-packages\\sklearn\\neighbors\\_classification.py:228: FutureWarning: Unlike other reduction functions (e.g. `skew`, `kurtosis`), the default behavior of `mode` typically preserves the axis it acts along. In SciPy 1.11.0, this behavior will change: the default value of `keepdims` will become False, the `axis` over which the statistic is taken will be eliminated, and the value None will no longer be accepted. Set `keepdims` to True or False to avoid this warning.\n",
      "  mode, _ = stats.mode(_y[neigh_ind, k], axis=1)\n",
      "C:\\Users\\macvi\\anaconda3\\lib\\site-packages\\sklearn\\neighbors\\_classification.py:228: FutureWarning: Unlike other reduction functions (e.g. `skew`, `kurtosis`), the default behavior of `mode` typically preserves the axis it acts along. In SciPy 1.11.0, this behavior will change: the default value of `keepdims` will become False, the `axis` over which the statistic is taken will be eliminated, and the value None will no longer be accepted. Set `keepdims` to True or False to avoid this warning.\n",
      "  mode, _ = stats.mode(_y[neigh_ind, k], axis=1)\n",
      "C:\\Users\\macvi\\anaconda3\\lib\\site-packages\\sklearn\\neighbors\\_classification.py:228: FutureWarning: Unlike other reduction functions (e.g. `skew`, `kurtosis`), the default behavior of `mode` typically preserves the axis it acts along. In SciPy 1.11.0, this behavior will change: the default value of `keepdims` will become False, the `axis` over which the statistic is taken will be eliminated, and the value None will no longer be accepted. Set `keepdims` to True or False to avoid this warning.\n",
      "  mode, _ = stats.mode(_y[neigh_ind, k], axis=1)\n",
      "C:\\Users\\macvi\\anaconda3\\lib\\site-packages\\sklearn\\neighbors\\_classification.py:228: FutureWarning: Unlike other reduction functions (e.g. `skew`, `kurtosis`), the default behavior of `mode` typically preserves the axis it acts along. In SciPy 1.11.0, this behavior will change: the default value of `keepdims` will become False, the `axis` over which the statistic is taken will be eliminated, and the value None will no longer be accepted. Set `keepdims` to True or False to avoid this warning.\n",
      "  mode, _ = stats.mode(_y[neigh_ind, k], axis=1)\n",
      "C:\\Users\\macvi\\anaconda3\\lib\\site-packages\\sklearn\\neighbors\\_classification.py:228: FutureWarning: Unlike other reduction functions (e.g. `skew`, `kurtosis`), the default behavior of `mode` typically preserves the axis it acts along. In SciPy 1.11.0, this behavior will change: the default value of `keepdims` will become False, the `axis` over which the statistic is taken will be eliminated, and the value None will no longer be accepted. Set `keepdims` to True or False to avoid this warning.\n",
      "  mode, _ = stats.mode(_y[neigh_ind, k], axis=1)\n",
      "C:\\Users\\macvi\\anaconda3\\lib\\site-packages\\sklearn\\neighbors\\_classification.py:228: FutureWarning: Unlike other reduction functions (e.g. `skew`, `kurtosis`), the default behavior of `mode` typically preserves the axis it acts along. In SciPy 1.11.0, this behavior will change: the default value of `keepdims` will become False, the `axis` over which the statistic is taken will be eliminated, and the value None will no longer be accepted. Set `keepdims` to True or False to avoid this warning.\n",
      "  mode, _ = stats.mode(_y[neigh_ind, k], axis=1)\n",
      "C:\\Users\\macvi\\anaconda3\\lib\\site-packages\\sklearn\\neighbors\\_classification.py:228: FutureWarning: Unlike other reduction functions (e.g. `skew`, `kurtosis`), the default behavior of `mode` typically preserves the axis it acts along. In SciPy 1.11.0, this behavior will change: the default value of `keepdims` will become False, the `axis` over which the statistic is taken will be eliminated, and the value None will no longer be accepted. Set `keepdims` to True or False to avoid this warning.\n",
      "  mode, _ = stats.mode(_y[neigh_ind, k], axis=1)\n"
     ]
    },
    {
     "name": "stdout",
     "output_type": "stream",
     "text": [
      "The best parameters are metric = ['euclidean', 'manhattan'] and k = [1, 3, 5, 7, 9, 11, 13, 15, 17, 19] with {('euclidean', 1): 0.6993464052287581, ('euclidean', 3): 0.7254901960784313, ('euclidean', 5): 0.7516339869281046, ('euclidean', 7): 0.7581699346405228, ('euclidean', 9): 0.7712418300653595, ('euclidean', 11): 0.7843137254901961, ('euclidean', 13): 0.7581699346405228, ('euclidean', 15): 0.7450980392156863, ('euclidean', 17): 0.738562091503268, ('euclidean', 19): 0.738562091503268, ('manhattan', 1): 0.7058823529411765, ('manhattan', 3): 0.7058823529411765, ('manhattan', 5): 0.7320261437908496, ('manhattan', 7): 0.7254901960784313, ('manhattan', 9): 0.7712418300653595, ('manhattan', 11): 0.7843137254901961, ('manhattan', 13): 0.7843137254901961, ('manhattan', 15): 0.7712418300653595, ('manhattan', 17): 0.7647058823529411, ('manhattan', 19): 0.7777777777777778} accuracy on the validation data\n",
      "Test accuracy: {('euclidean', 1): 0.6538461538461539, ('euclidean', 3): 0.6538461538461539, ('euclidean', 5): 0.717948717948718, ('euclidean', 7): 0.7115384615384616, ('euclidean', 9): 0.7051282051282052, ('euclidean', 11): 0.7243589743589743, ('euclidean', 13): 0.7243589743589743, ('euclidean', 15): 0.7051282051282052, ('euclidean', 17): 0.7307692307692307, ('euclidean', 19): 0.7243589743589743, ('manhattan', 1): 0.6730769230769231, ('manhattan', 3): 0.6858974358974359, ('manhattan', 5): 0.7371794871794872, ('manhattan', 7): 0.7435897435897436, ('manhattan', 9): 0.7243589743589743, ('manhattan', 11): 0.75, ('manhattan', 13): 0.7051282051282052, ('manhattan', 15): 0.717948717948718, ('manhattan', 17): 0.717948717948718, ('manhattan', 19): 0.7307692307692307}\n"
     ]
    },
    {
     "name": "stderr",
     "output_type": "stream",
     "text": [
      "C:\\Users\\macvi\\anaconda3\\lib\\site-packages\\sklearn\\neighbors\\_classification.py:228: FutureWarning: Unlike other reduction functions (e.g. `skew`, `kurtosis`), the default behavior of `mode` typically preserves the axis it acts along. In SciPy 1.11.0, this behavior will change: the default value of `keepdims` will become False, the `axis` over which the statistic is taken will be eliminated, and the value None will no longer be accepted. Set `keepdims` to True or False to avoid this warning.\n",
      "  mode, _ = stats.mode(_y[neigh_ind, k], axis=1)\n",
      "C:\\Users\\macvi\\anaconda3\\lib\\site-packages\\sklearn\\neighbors\\_classification.py:228: FutureWarning: Unlike other reduction functions (e.g. `skew`, `kurtosis`), the default behavior of `mode` typically preserves the axis it acts along. In SciPy 1.11.0, this behavior will change: the default value of `keepdims` will become False, the `axis` over which the statistic is taken will be eliminated, and the value None will no longer be accepted. Set `keepdims` to True or False to avoid this warning.\n",
      "  mode, _ = stats.mode(_y[neigh_ind, k], axis=1)\n",
      "C:\\Users\\macvi\\anaconda3\\lib\\site-packages\\sklearn\\neighbors\\_classification.py:228: FutureWarning: Unlike other reduction functions (e.g. `skew`, `kurtosis`), the default behavior of `mode` typically preserves the axis it acts along. In SciPy 1.11.0, this behavior will change: the default value of `keepdims` will become False, the `axis` over which the statistic is taken will be eliminated, and the value None will no longer be accepted. Set `keepdims` to True or False to avoid this warning.\n",
      "  mode, _ = stats.mode(_y[neigh_ind, k], axis=1)\n",
      "C:\\Users\\macvi\\anaconda3\\lib\\site-packages\\sklearn\\neighbors\\_classification.py:228: FutureWarning: Unlike other reduction functions (e.g. `skew`, `kurtosis`), the default behavior of `mode` typically preserves the axis it acts along. In SciPy 1.11.0, this behavior will change: the default value of `keepdims` will become False, the `axis` over which the statistic is taken will be eliminated, and the value None will no longer be accepted. Set `keepdims` to True or False to avoid this warning.\n",
      "  mode, _ = stats.mode(_y[neigh_ind, k], axis=1)\n",
      "C:\\Users\\macvi\\anaconda3\\lib\\site-packages\\sklearn\\neighbors\\_classification.py:228: FutureWarning: Unlike other reduction functions (e.g. `skew`, `kurtosis`), the default behavior of `mode` typically preserves the axis it acts along. In SciPy 1.11.0, this behavior will change: the default value of `keepdims` will become False, the `axis` over which the statistic is taken will be eliminated, and the value None will no longer be accepted. Set `keepdims` to True or False to avoid this warning.\n",
      "  mode, _ = stats.mode(_y[neigh_ind, k], axis=1)\n",
      "C:\\Users\\macvi\\anaconda3\\lib\\site-packages\\sklearn\\neighbors\\_classification.py:228: FutureWarning: Unlike other reduction functions (e.g. `skew`, `kurtosis`), the default behavior of `mode` typically preserves the axis it acts along. In SciPy 1.11.0, this behavior will change: the default value of `keepdims` will become False, the `axis` over which the statistic is taken will be eliminated, and the value None will no longer be accepted. Set `keepdims` to True or False to avoid this warning.\n",
      "  mode, _ = stats.mode(_y[neigh_ind, k], axis=1)\n",
      "C:\\Users\\macvi\\anaconda3\\lib\\site-packages\\sklearn\\neighbors\\_classification.py:228: FutureWarning: Unlike other reduction functions (e.g. `skew`, `kurtosis`), the default behavior of `mode` typically preserves the axis it acts along. In SciPy 1.11.0, this behavior will change: the default value of `keepdims` will become False, the `axis` over which the statistic is taken will be eliminated, and the value None will no longer be accepted. Set `keepdims` to True or False to avoid this warning.\n",
      "  mode, _ = stats.mode(_y[neigh_ind, k], axis=1)\n",
      "C:\\Users\\macvi\\anaconda3\\lib\\site-packages\\sklearn\\neighbors\\_classification.py:228: FutureWarning: Unlike other reduction functions (e.g. `skew`, `kurtosis`), the default behavior of `mode` typically preserves the axis it acts along. In SciPy 1.11.0, this behavior will change: the default value of `keepdims` will become False, the `axis` over which the statistic is taken will be eliminated, and the value None will no longer be accepted. Set `keepdims` to True or False to avoid this warning.\n",
      "  mode, _ = stats.mode(_y[neigh_ind, k], axis=1)\n",
      "C:\\Users\\macvi\\anaconda3\\lib\\site-packages\\sklearn\\neighbors\\_classification.py:228: FutureWarning: Unlike other reduction functions (e.g. `skew`, `kurtosis`), the default behavior of `mode` typically preserves the axis it acts along. In SciPy 1.11.0, this behavior will change: the default value of `keepdims` will become False, the `axis` over which the statistic is taken will be eliminated, and the value None will no longer be accepted. Set `keepdims` to True or False to avoid this warning.\n",
      "  mode, _ = stats.mode(_y[neigh_ind, k], axis=1)\n",
      "C:\\Users\\macvi\\anaconda3\\lib\\site-packages\\sklearn\\neighbors\\_classification.py:228: FutureWarning: Unlike other reduction functions (e.g. `skew`, `kurtosis`), the default behavior of `mode` typically preserves the axis it acts along. In SciPy 1.11.0, this behavior will change: the default value of `keepdims` will become False, the `axis` over which the statistic is taken will be eliminated, and the value None will no longer be accepted. Set `keepdims` to True or False to avoid this warning.\n",
      "  mode, _ = stats.mode(_y[neigh_ind, k], axis=1)\n"
     ]
    }
   ],
   "source": [
    "metric, k = [\"euclidean\", \"manhattan\"], [1,3,5,7,9,11,13,15,17,19]\n",
    "validation_accuracy = knn_grid_search(trainX, trainy, validationX, validationy, metric, k)\n",
    "print('The best parameters are metric =', metric, 'and k =', k, 'with', validation_accuracy, 'accuracy on the validation data')\n",
    "test_accuracy = knn_grid_search(trainX, trainy, testX, testy, metric, k)\n",
    "print('Test accuracy:', test_accuracy)"
   ]
  },
  {
   "cell_type": "markdown",
   "metadata": {},
   "source": [
    "<P>As a final step for this task, create a plot containing two line graphs, one corresponding to the accuracy of the <em>k</em>NN approach using different values of <em>k</em> with the <code>euclidean</code> distance metric, and one corresponding to the accuracy of the <em>k</em>NN approach using different values of <em>k</em> with the <code>manhattan</code> distance metric.\n",
    "</P>"
   ]
  },
  {
   "cell_type": "code",
   "execution_count": 67,
   "metadata": {},
   "outputs": [
    {
     "name": "stdout",
     "output_type": "stream",
     "text": [
      "[0.6538461538461539, 0.6538461538461539, 0.717948717948718, 0.7115384615384616, 0.7051282051282052, 0.7243589743589743, 0.7243589743589743, 0.7051282051282052, 0.7307692307692307, 0.7243589743589743]\n"
     ]
    },
    {
     "data": {
      "image/png": "[encoded data removed]",
      "text/plain": [
       "<Figure size 640x480 with 1 Axes>"
      ]
     },
     "metadata": {},
     "output_type": "display_data"
    }
   ],
   "source": [
    "import matplotlib.pyplot as plt\n",
    "euclideanAcc = []\n",
    "manhattanAcc = []\n",
    "for key in test_accuracy:\n",
    "    if \"euclidean\" in key:\n",
    "        euclideanAcc.append(test_accuracy[key])\n",
    "    else:\n",
    "        manhattanAcc.append(test_accuracy[key])\n",
    "print(euclideanAcc)\n",
    "plt.plot(k, euclideanAcc, label = \"euclidean\")\n",
    "#plt.lable(euclidean)\n",
    "plt.plot(k, manhattanAcc, label = \"manhattan\")\n",
    "plt.legend()\n",
    "plt.show()\n"
   ]
  },
  {
   "cell_type": "markdown",
   "metadata": {},
   "source": [
    "<P>Your plot of line graphs might looking something like this:<BR>\n",
    "<center><img src=\"kNN.png\"></img></center>"
   ]
  },
  {
   "cell_type": "markdown",
   "metadata": {},
   "source": [
    "<H2>Task 4: Feature Scaling\n",
    "</H2>"
   ]
  },
  {
   "cell_type": "markdown",
   "metadata": {},
   "source": [
    "<P>In the tasks above, you did not perform feature scaling prior to classifying the data.  Here, you will perform feature scaling on the diabetes data before classifying it. Using the <code>fit</code> function of <code>sklearn</code>'s <a href=\"http://scikit-learn.org/stable/modules/generated/sklearn.preprocessing.StandardScaler.html#sklearn.preprocessing.StandardScaler\">preprocessing.StandardScaler</a> class, you can learn the means and standard deviations of the features in the <em>training</em> data. Then, using the <code>transform</code> function on your trained <code>preprocessing.StandardScaler</code> object, you can scale first the <em>training</em> data and then the <em>testing</em> data. \n",
    "</P>"
   ]
  },
  {
   "cell_type": "code",
   "execution_count": 73,
   "metadata": {},
   "outputs": [],
   "source": [
    "# Fit a preprocessing.StandardScaler object with the diabetes training data.\n",
    "# Then scale (i.e., transform) first the training data and then the testing data.\n",
    "\n",
    "from sklearn.preprocessing import StandardScaler\n",
    "scaler = StandardScaler()\n",
    "scaler.fit(trainX)\n",
    "trainX_scaled = scaler.transform(trainX)\n",
    "testX_scaled = scaler.transform(testX)\n",
    "#print(trainX_scaled)\n",
    "\n"
   ]
  },
  {
   "cell_type": "code",
   "execution_count": 74,
   "metadata": {},
   "outputs": [
    {
     "name": "stdout",
     "output_type": "stream",
     "text": [
      "0.7435897435897436\n"
     ]
    },
    {
     "name": "stderr",
     "output_type": "stream",
     "text": [
      "C:\\Users\\macvi\\anaconda3\\lib\\site-packages\\sklearn\\neighbors\\_classification.py:228: FutureWarning: Unlike other reduction functions (e.g. `skew`, `kurtosis`), the default behavior of `mode` typically preserves the axis it acts along. In SciPy 1.11.0, this behavior will change: the default value of `keepdims` will become False, the `axis` over which the statistic is taken will be eliminated, and the value None will no longer be accepted. Set `keepdims` to True or False to avoid this warning.\n",
      "  mode, _ = stats.mode(_y[neigh_ind, k], axis=1)\n"
     ]
    }
   ],
   "source": [
    "# Train an sklearn KNeighborsClassifier using the scaled training data\n",
    "# and determine its accuracy on the scaled testing data (using k=1 and Euclidean distance).\n",
    "\n",
    "predicty = sklearn_knn_predict(trainX_scaled, trainy, testX_scaled, \"euclidean\", 1)\n",
    "print(get_accuracy(testy, predicty))\n",
    "\n",
    "\n"
   ]
  },
  {
   "cell_type": "markdown",
   "metadata": {},
   "source": [
    "<P><font color=\"maroon\"><u>Now that you have performed feature scaling prior to classification, what is the accuracy of the <code>sklearn</code> <em>k</em> nearest neighbors algorithm (using <em>k</em>=1 and the Euclidean distance metric) on the diabetes test data? Is this accuracy better or worse than you found at the beginning of Task 3 when feature scaling was <b>not</b> used?</u></font></P>"
   ]
  },
  {
   "cell_type": "markdown",
   "metadata": {},
   "source": [
    "Report your accuracy here: 74.36%\n",
    "Better or worse than accuracy in earlier task when feature scaling was not used: Better!"
   ]
  },
  {
   "cell_type": "markdown",
   "metadata": {},
   "source": [
    "<H2>Task 5: Will it rain tomorrow?\n",
    "</H2>"
   ]
  },
  {
   "cell_type": "markdown",
   "metadata": {},
   "source": [
    "<P>Using some basic weather data for a given day, can we accurately predict whether it will rain the next day? Together with the downloaded file containing this notebook, you should find eight comma-separated values (csv) files corresponding to <a href=\"https://www.kaggle.com/jsphyg/weather-dataset-rattle-package\">weather data</a> for eight cities in Australia: Canberra, GoldCoast, Hobart, Nuriootpa, Perth, Sydney, WaggaWagga, and Wollongong. The first row of each file contains header information. Each subsequent row represents weather information for a given day in the city. The very last column is the label, 1 or 0, which denotes whether or not it rains the following day. The features are</P>\n",
    "<ol>\n",
    "<li>The day's minimum temperature (degrees C)</li>\n",
    "<li>The day's maximum temperature (degrees C)</li>\n",
    "<li>The amount of rainfall recorded for the day (mm)</li>\n",
    "<li>The speed (km/h) of the strongest wind gust in the 24 hours to midnight</li>\n",
    "<li>Wind speed (km/h) averaged over 10 minutes prior to 9am</li>\n",
    "<li>Wind speed (km/h) averaged over 10 minutes prior to 3pm</li>\n",
    "<li>Humidity (percent) at 9am</li>\n",
    "<li>Humidity (percent) at 3pm</li>\n",
    "<li>Atmospheric pressure (hpa) reduced to mean sea level at 9am</li>\n",
    "<li>Atmospheric pressure (hpa) reduced to mean sea level at 3pm</li>    \n",
    "<li>Temperature at 9am (degrees C)</li>\n",
    "<li>Temperature at 3pm (degrees C)</li>\n",
    "<li>A Boolean indicating whether or not it rained on this day, i.e., a value of 1 if precipitation (mm) in the 24 hours to 9am exceeds 1mm, otherwise 0</li>\n",
    "</ol>\n",
    "<P>In this task, you will determine the accuracy of the <em>k</em> nearest neighbors algorithm in predicting whether it will rain tomorrow in each of the eight cities.</P>"
   ]
  },
  {
   "cell_type": "markdown",
   "metadata": {},
   "source": [
    "<P>Write a function <code>predictRainInCity</code> that takes as input the name of one of the eight Australian cities, e.g., <em>Canberra</em>. Your function should</P>\n",
    "<ol>\n",
    "    <li>read in the corresponding <code>csv</code> file and store the data in <code>X</code> and <code>y</code> matrices</li>\n",
    "    <li>split the data into 70% training data and 30% testing data as you did in the Exercises using the <a href=\"https://scikit-learn.org/stable/modules/generated/sklearn.model_selection.train_test_split.html\">train_test_split</a> function</li>\n",
    "    <li>scale the features with the approach you used in the task above</li>\n",
    "    <li>print out the name of the city</li>\n",
    "    <li>print out the accuracy of a <code>KNeighborsClassifier</code> (using parameters <em>k</em>=11 and Euclidean distance) in predicting whether it will rain tomorrow</li>\n",
    "</ol>\n",
    "<P>As a final step, run your <code>predictRainInCity</code> function on the name of each of the eight Australian cities to see how effective the <em>k</em> nearest neighbors algorithm is in predicting whether it will rain the next day in each of the eight cities.</P>"
   ]
  },
  {
   "cell_type": "code",
   "execution_count": 3,
   "metadata": {},
   "outputs": [
    {
     "ename": "NameError",
     "evalue": "name 'StandardScaler' is not defined",
     "output_type": "error",
     "traceback": [
      "\u001b[1;31m---------------------------------------------------------------------------\u001b[0m",
      "\u001b[1;31mNameError\u001b[0m                                 Traceback (most recent call last)",
      "\u001b[1;32m~\\AppData\\Local\\Temp\\ipykernel_25408\\3537602024.py\u001b[0m in \u001b[0;36m<module>\u001b[1;34m\u001b[0m\n\u001b[0;32m     13\u001b[0m     \u001b[0mprint\u001b[0m\u001b[1;33m(\u001b[0m\u001b[0mget_accuracy\u001b[0m\u001b[1;33m(\u001b[0m\u001b[0mtesty\u001b[0m\u001b[1;33m,\u001b[0m \u001b[0mpredicty\u001b[0m\u001b[1;33m)\u001b[0m\u001b[1;33m)\u001b[0m \u001b[1;31m#comparing the actual y values to predicted y values.\u001b[0m\u001b[1;33m\u001b[0m\u001b[1;33m\u001b[0m\u001b[0m\n\u001b[0;32m     14\u001b[0m \u001b[1;33m\u001b[0m\u001b[0m\n\u001b[1;32m---> 15\u001b[1;33m \u001b[0mpredictRainInCity\u001b[0m\u001b[1;33m(\u001b[0m\u001b[1;34m\"Canberra\"\u001b[0m\u001b[1;33m)\u001b[0m\u001b[1;33m\u001b[0m\u001b[1;33m\u001b[0m\u001b[0m\n\u001b[0m\u001b[0;32m     16\u001b[0m \u001b[0mpredictRainInCity\u001b[0m\u001b[1;33m(\u001b[0m\u001b[1;34m\"GoldCoast\"\u001b[0m\u001b[1;33m)\u001b[0m\u001b[1;33m\u001b[0m\u001b[1;33m\u001b[0m\u001b[0m\n\u001b[0;32m     17\u001b[0m \u001b[0mpredictRainInCity\u001b[0m\u001b[1;33m(\u001b[0m\u001b[1;34m\"Hobart\"\u001b[0m\u001b[1;33m)\u001b[0m\u001b[1;33m\u001b[0m\u001b[1;33m\u001b[0m\u001b[0m\n",
      "\u001b[1;32m~\\AppData\\Local\\Temp\\ipykernel_25408\\3537602024.py\u001b[0m in \u001b[0;36mpredictRainInCity\u001b[1;34m(city)\u001b[0m\n\u001b[0;32m      5\u001b[0m     \u001b[0mX\u001b[0m\u001b[1;33m,\u001b[0m\u001b[0my\u001b[0m \u001b[1;33m=\u001b[0m \u001b[0mload\u001b[0m\u001b[1;33m(\u001b[0m\u001b[0mcity\u001b[0m\u001b[1;33m+\u001b[0m\u001b[1;34m\".csv\"\u001b[0m\u001b[1;33m)\u001b[0m\u001b[1;33m\u001b[0m\u001b[1;33m\u001b[0m\u001b[0m\n\u001b[0;32m      6\u001b[0m     \u001b[0mtrainX\u001b[0m\u001b[1;33m,\u001b[0m \u001b[0mtestX\u001b[0m\u001b[1;33m,\u001b[0m \u001b[0mtrainy\u001b[0m\u001b[1;33m,\u001b[0m \u001b[0mtesty\u001b[0m \u001b[1;33m=\u001b[0m \u001b[0mtrain_test_split\u001b[0m\u001b[1;33m(\u001b[0m\u001b[0mX\u001b[0m\u001b[1;33m,\u001b[0m \u001b[0my\u001b[0m\u001b[1;33m,\u001b[0m \u001b[0mtrain_size\u001b[0m\u001b[1;33m=\u001b[0m\u001b[1;36m0.70\u001b[0m\u001b[1;33m,\u001b[0m \u001b[0mtest_size\u001b[0m\u001b[1;33m=\u001b[0m\u001b[1;36m0.3\u001b[0m\u001b[1;33m,\u001b[0m \u001b[0mrandom_state\u001b[0m\u001b[1;33m=\u001b[0m\u001b[1;36m0\u001b[0m\u001b[1;33m)\u001b[0m\u001b[1;33m\u001b[0m\u001b[1;33m\u001b[0m\u001b[0m\n\u001b[1;32m----> 7\u001b[1;33m     \u001b[0mscaler\u001b[0m \u001b[1;33m=\u001b[0m \u001b[0mStandardScaler\u001b[0m\u001b[1;33m(\u001b[0m\u001b[1;33m)\u001b[0m\u001b[1;33m\u001b[0m\u001b[1;33m\u001b[0m\u001b[0m\n\u001b[0m\u001b[0;32m      8\u001b[0m     \u001b[0mscaler\u001b[0m\u001b[1;33m.\u001b[0m\u001b[0mfit\u001b[0m\u001b[1;33m(\u001b[0m\u001b[0mtrainX\u001b[0m\u001b[1;33m)\u001b[0m\u001b[1;33m\u001b[0m\u001b[1;33m\u001b[0m\u001b[0m\n\u001b[0;32m      9\u001b[0m     \u001b[0mtrainX_scaled\u001b[0m \u001b[1;33m=\u001b[0m \u001b[0mscaler\u001b[0m\u001b[1;33m.\u001b[0m\u001b[0mtransform\u001b[0m\u001b[1;33m(\u001b[0m\u001b[0mtrainX\u001b[0m\u001b[1;33m)\u001b[0m\u001b[1;33m\u001b[0m\u001b[1;33m\u001b[0m\u001b[0m\n",
      "\u001b[1;31mNameError\u001b[0m: name 'StandardScaler' is not defined"
     ]
    }
   ],
   "source": [
    "# Determine the accuracy of the k nearest neighbors algorithm in predicting\n",
    "# whether it will rain tomorrow in each of eight Australian cities.\n",
    "from sklearn.model_selection import train_test_split\n",
    "def predictRainInCity(city):\n",
    "    X,y = load(city+\".csv\")\n",
    "    trainX, testX, trainy, testy = train_test_split(X, y, train_size=0.70, test_size=0.3, random_state=0)\n",
    "    scaler = StandardScaler()\n",
    "    scaler.fit(trainX)\n",
    "    trainX_scaled = scaler.transform(trainX)\n",
    "    testX_scaled = scaler.transform(testX)\n",
    "    print(city)\n",
    "    predicty = sklearn_knn_predict(trainX_scaled, trainy, testX_scaled, \"euclidean\", 11)\n",
    "    print(get_accuracy(testy, predicty)) #comparing the actual y values to predicted y values. \n",
    "    \n",
    "predictRainInCity(\"Canberra\")\n",
    "predictRainInCity(\"GoldCoast\")\n",
    "predictRainInCity(\"Hobart\")\n",
    "predictRainInCity(\"Nuriootpa\")\n",
    "predictRainInCity(\"Perth\")\n",
    "predictRainInCity(\"Sydney\")\n",
    "predictRainInCity(\"WaggaWagga\")\n",
    "predictRainInCity(\"Wollongong\")"
   ]
  },
  {
   "cell_type": "markdown",
   "metadata": {},
   "source": [
    "<P><font color=\"maroon\"><u>Across the eight cities, what is the minimum accuracy you observe in predicting rain the next day using the <em>k</em> nearest neighbors algorithm? What is the maximum accuracy?</u></font></P>"
   ]
  },
  {
   "cell_type": "markdown",
   "metadata": {},
   "source": [
    "Report your minimum accuracy here: 76.4%\n",
    "Report your maximum accuracy here: 89.6%"
   ]
  },
  {
   "cell_type": "markdown",
   "metadata": {},
   "source": [
    "<H2>Submitting your work\n",
    "</H2>"
   ]
  },
  {
   "cell_type": "markdown",
   "metadata": {},
   "source": [
    "<P><font color=\"maroon\"><u>Please indicate your name and the names of any partner that worked with you on this project:</u></font></P>"
   ]
  },
  {
   "cell_type": "markdown",
   "metadata": {},
   "source": [
    "Name(s): Angel Xu, Kate Macvicar"
   ]
  },
  {
   "cell_type": "markdown",
   "metadata": {},
   "source": [
    "<P><font color=\"maroon\"><u>Please indicate anyone else that you collaborated with in the process of doing the project:</u></font></P>"
   ]
  },
  {
   "cell_type": "markdown",
   "metadata": {},
   "source": [
    "Collaborators: n/a"
   ]
  },
  {
   "cell_type": "markdown",
   "metadata": {},
   "source": [
    "<P><font color=\"maroon\"><u>When working on this project, approximately how many hours did you spend on each of (1) Task 1, (2) Task 2, (3) Task 3, (4) Task 4, (5) Task 5, and (6) Total?</u></font></P>"
   ]
  },
  {
   "cell_type": "markdown",
   "metadata": {},
   "source": [
    "Hours for Task 1: \n",
    "Hours for Task 2: 2\n",
    "Hours for Task 3: 0.2\n",
    "Hours for Task 4: 0.3\n",
    "Hours for Task 5: 0.2\n",
    "Total Hours: 4"
   ]
  },
  {
   "cell_type": "markdown",
   "metadata": {},
   "source": [
    "<P><font color=\"maroon\"><u>When working on this project, did you abide by the <a href=\"https://www.wellesley.edu/studentlife/aboutus/honor\">Honor Code</a> and is all of the work that you are submitting your own and/or your partner's?</u></font></P>"
   ]
  },
  {
   "cell_type": "markdown",
   "metadata": {},
   "source": [
    "Abided by Honor Code: Yes!"
   ]
  },
  {
   "cell_type": "markdown",
   "metadata": {},
   "source": [
    "<P><font color=\"maroon\"><u>To submit this project, please upload your <code>Project1.ipynb</code> file to the <code>Project1</code> folder that the instructor created and shared with you in your Google drive.</u></font></P>"
   ]
  }
 ],
 "metadata": {
  "kernelspec": {
   "display_name": "Python 3 (ipykernel)",
   "language": "python",
   "name": "python3"
  },
  "language_info": {
   "codemirror_mode": {
    "name": "ipython",
    "version": 3
   },
   "file_extension": ".py",
   "mimetype": "text/x-python",
   "name": "python",
   "nbconvert_exporter": "python",
   "pygments_lexer": "ipython3",
   "version": "3.9.13"
  }
 },
 "nbformat": 4,
 "nbformat_minor": 4
}
